import pandas as pd
import scipy.stats as st
import numpy as np
import matplotlib.pyplot as plt
dane=pd.read_csv(r"C:\Users\Anonim\Downloads\123.csv", sep=',t', engine='python', delimiter=',')

# 1. Która organizacja terrorystyczna dokonała najwięcej zamachów na przestrzeni lat?
print("PIERWSZE")
organiz=dane['gname']
print(organiz.value_counts())

czynnosci=['Unknown','Taliban','ISIL ','SL', 'FMLN', 'AL-Shabaab', 'New People Army (NPA)', 'Inne']
procenty=pd.Series([45.55, 4.11, 3.08, 2.5, 1.84, 1.80, 1.52, 39.6])
wycinek=pd.Series([0.1 ,0 ,0 ,0, 0 ,0 ,0 ,0])
plt.figure(1 ,figsize=(6 ,6))
plt.pie(procenty,explode=wycinek,labels=czynnosci,
        autopct='%1.1f%%',shadow=True)
plt.show()

lista=[ 7478, 5613, 4555, 3351, 3288, 2772, 2671]

zsumowane=pd.Series(range(len(lista)))
plt.bar(zsumowane, lista , color='#990000')
czas=range(len(lista))
podpisy=['Taliban', 'ISIL ','SL', 'FMLN', 'AL-Shabaab', 'NPA', 'IRA']
plt.xticks(czas, podpisy, fontsize=10)
plt.xlabel('Nazwa organizacji')
plt.ylabel('Liczba zamachów na przestrzeni 1970-2016r.')
plt.xticks(zsumowane, podpisy)
plt.tight_layout()
plt.show()